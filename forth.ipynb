{
 "cells": [
  {
   "cell_type": "code",
   "execution_count": 1,
   "metadata": {},
   "outputs": [],
   "source": [
    "import numpy as np\n",
    "from scipy.integrate import odeint"
   ]
  },
  {
   "cell_type": "code",
   "execution_count": 2,
   "metadata": {},
   "outputs": [],
   "source": [
    "#写出SIR模型的函数\n",
    "def SIR(y,t,beta,gamma):\n",
    "    S,I,R = y\n",
    "    dSdt = -S*(I/(S+I+R))*beta\n",
    "    dIdt = S*(I/(S+I+R))*beta-gamma*I\n",
    "    dRdt = gamma*I\n",
    "    return [dSdt,dIdt,dRdt]"
   ]
  },
  {
   "cell_type": "code",
   "execution_count": 6,
   "metadata": {},
   "outputs": [],
   "source": [
    "#为SIR模型设置初始值\n",
    "#设置人群总人数为N\n",
    "N = 58000000\n",
    "#设置初始时的感染人数为239\n",
    "I0 = 239\n",
    "#设置初始时的恢复人数R0为31（恢复人数指不会再传染给他人，所以这里指恢复和死亡人数的总和）\n",
    "R0 = 31\n",
    "#所以初始易感人群总人数 = 总人数 - 初始感染人数 - 初始治愈人数\n",
    "S0 = N-I0-R0\n",
    "#设置初始值\n",
    "y0 = [S0,I0,R0]"
   ]
  },
  {
   "cell_type": "code",
   "execution_count": 9,
   "metadata": {},
   "outputs": [],
   "source": [
    "#设置疫情的时间跨度为60天\n",
    "t = np.linspace(1,60,60)\n",
    "\n",
    "#设置beta的值等于0.125\n",
    "beta = 0.125\n",
    "\n",
    "#设置gamma的值等于0.05\n",
    "gamma = 0.05"
   ]
  },
  {
   "cell_type": "code",
   "execution_count": 10,
   "metadata": {},
   "outputs": [],
   "source": [
    "#求解\n",
    "solution = odeint(SIR, y0, t, args=(beta, gamma))"
   ]
  }
 ],
 "metadata": {
  "kernelspec": {
   "display_name": "Python 3",
   "language": "python",
   "name": "python3"
  },
  "language_info": {
   "codemirror_mode": {
    "name": "ipython",
    "version": 3
   },
   "file_extension": ".py",
   "mimetype": "text/x-python",
   "name": "python",
   "nbconvert_exporter": "python",
   "pygments_lexer": "ipython3",
   "version": "3.7.4"
  }
 },
 "nbformat": 4,
 "nbformat_minor": 2
}
